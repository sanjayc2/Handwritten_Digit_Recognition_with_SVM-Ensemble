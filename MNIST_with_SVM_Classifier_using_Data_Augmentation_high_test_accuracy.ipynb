{
  "nbformat": 4,
  "nbformat_minor": 0,
  "metadata": {
    "colab": {
      "name": "MNIST with SVM Classifier using Data Augmentation - high test accuracy.ipynb",
      "provenance": [],
      "toc_visible": true,
      "authorship_tag": "ABX9TyPUswiZteCfALiBoOCmMFFN",
      "include_colab_link": true
    },
    "kernelspec": {
      "name": "python3",
      "display_name": "Python 3"
    },
    "language_info": {
      "name": "python"
    }
  },
  "cells": [
    {
      "cell_type": "markdown",
      "metadata": {
        "id": "view-in-github",
        "colab_type": "text"
      },
      "source": [
        "<a href=\"https://colab.research.google.com/github/sanjayc2/MNIST-w-SVM---High-Accuracy/blob/main/MNIST_with_SVM_Classifier_using_Data_Augmentation_high_test_accuracy.ipynb\" target=\"_parent\"><img src=\"https://colab.research.google.com/assets/colab-badge.svg\" alt=\"Open In Colab\"/></a>"
      ]
    },
    {
      "cell_type": "code",
      "metadata": {
        "id": "QCfltPgUUcdN"
      },
      "source": [
        "from sklearn.datasets import fetch_openml\n",
        "mnist = fetch_openml('mnist_784', version=1)"
      ],
      "execution_count": 1,
      "outputs": []
    },
    {
      "cell_type": "code",
      "metadata": {
        "id": "_T8pdAg5UzSo"
      },
      "source": [
        "X, y = mnist[\"data\"], mnist[\"target\"]\n",
        "import numpy as np\n",
        "y = y.astype(np.uint8)\n",
        "X_train, X_test, y_train, y_test = X[:60000], X[60000:], y[:60000],y[60000:]"
      ],
      "execution_count": 2,
      "outputs": []
    },
    {
      "cell_type": "code",
      "metadata": {
        "id": "Vl8CaQsGZvVc"
      },
      "source": [
        "from sklearn.model_selection import cross_val_score\n",
        "from sklearn.model_selection import cross_val_predict\n",
        "from sklearn.metrics import confusion_matrix\n",
        "from sklearn.metrics import precision_score, recall_score, precision_recall_curve\n",
        "from sklearn.metrics import roc_curve, roc_auc_score"
      ],
      "execution_count": 3,
      "outputs": []
    },
    {
      "cell_type": "code",
      "metadata": {
        "id": "tjRuagq4eUbq",
        "colab": {
          "base_uri": "https://localhost:8080/",
          "height": 284
        },
        "outputId": "0eefc9be-2255-4694-8bea-1b86569d4e16"
      },
      "source": [
        "import matplotlib as mpl\n",
        "import matplotlib.pyplot as plt\n",
        "\n",
        "some_digit = X.iloc[30]\n",
        "plt.imshow(some_digit.values.reshape(28,28), cmap='binary')\n"
      ],
      "execution_count": 12,
      "outputs": [
        {
          "output_type": "execute_result",
          "data": {
            "text/plain": [
              "<matplotlib.image.AxesImage at 0x7f8f4a8daf10>"
            ]
          },
          "metadata": {},
          "execution_count": 12
        },
        {
          "output_type": "display_data",
          "data": {
            "image/png": "[encoded data removed]",
            "text/plain": [
              "<Figure size 432x288 with 1 Axes>"
            ]
          },
          "metadata": {
            "needs_background": "light"
          }
        }
      ]
    },
    {
      "cell_type": "code",
      "metadata": {
        "id": "3HKP238ahoPP"
      },
      "source": [
        "# try SVM classifier with rbf kernel\n",
        "from sklearn.svm import SVC\n",
        "from sklearn.ensemble import BaggingClassifier\n",
        "from sklearn.multiclass import OneVsRestClassifier\n",
        "\n",
        "n_estimators = 10\n",
        "y_train_5 = (y_train == 5)\n",
        "svm_clf = OneVsRestClassifier(BaggingClassifier(SVC(kernel='poly'), max_samples=1.0 / n_estimators, n_estimators=n_estimators), n_jobs=-1)\n",
        "svm_clf = svm_clf.fit(X_train, y_train_5)"
      ],
      "execution_count": 13,
      "outputs": []
    },
    {
      "cell_type": "code",
      "metadata": {
        "id": "lMQEDMvvr3KU"
      },
      "source": [
        " y_scores = cross_val_predict(svm_clf, X_train,y_train_5, cv=3, method = \"decision_function\", n_jobs = -1)\n"
      ],
      "execution_count": 14,
      "outputs": []
    },
    {
      "cell_type": "markdown",
      "metadata": {
        "id": "ec_XUvo_igGk"
      },
      "source": [
        "# New Section"
      ]
    },
    {
      "cell_type": "markdown",
      "metadata": {
        "id": "FvtcPPboigiE"
      },
      "source": [
        "# New Section"
      ]
    },
    {
      "cell_type": "code",
      "metadata": {
        "id": "SNAsuHhxh4TF",
        "colab": {
          "base_uri": "https://localhost:8080/",
          "height": 302
        },
        "outputId": "737566a5-b114-4f73-87ed-efcb30d77648"
      },
      "source": [
        "print(y_scores)\n",
        "fpr, tpr, thresholds = roc_curve(y_train_5, y_scores)\n",
        "def plot_roc_curve(fpr, tpr):\n",
        "  plt.plot(fpr, tpr, linewidth=2, label=\"roc_curve\")\n",
        "  plt.plot([0,1], [0,1], \"k--\")\n",
        "  [...]\n",
        "\n",
        "plot_roc_curve(fpr, tpr)"
      ],
      "execution_count": 15,
      "outputs": [
        {
          "output_type": "stream",
          "name": "stdout",
          "text": [
            "[ 1.00938488 -2.05981054 -1.11851485 ...  0.84986558 -1.05971648\n",
            " -1.23053881]\n"
          ]
        },
        {
          "output_type": "display_data",
          "data": {
            "image/png": "[encoded data removed]",
            "text/plain": [
              "<Figure size 432x288 with 1 Axes>"
            ]
          },
          "metadata": {
            "needs_background": "light"
          }
        }
      ]
    },
    {
      "cell_type": "code",
      "metadata": {
        "id": "szpjrPe5BghM"
      },
      "source": [
        "y_train_pred = cross_val_predict(svm_clf, X_train, y_train_5, cv=3, n_jobs=-1)\n"
      ],
      "execution_count": 16,
      "outputs": []
    },
    {
      "cell_type": "code",
      "metadata": {
        "colab": {
          "base_uri": "https://localhost:8080/"
        },
        "id": "ss_j6MjfAxTk",
        "outputId": "712c5ee4-4843-4560-8055-6946ad656e30"
      },
      "source": [
        "print(confusion_matrix(y_train_5, y_train_pred))"
      ],
      "execution_count": 17,
      "outputs": [
        {
          "output_type": "stream",
          "name": "stdout",
          "text": [
            "[[54448   131]\n",
            " [ 1128  4293]]\n"
          ]
        }
      ]
    },
    {
      "cell_type": "code",
      "metadata": {
        "id": "rwdH9pPIu91C"
      },
      "source": [
        "from sklearn.svm import SVC\n",
        "from sklearn.ensemble import BaggingClassifier\n",
        "from sklearn.multiclass import OneVsRestClassifier\n",
        "\n",
        "n_estimators = 10\n",
        "svm_clf = BaggingClassifier(SVC(kernel='poly'), max_samples=1.0 / n_estimators, n_estimators=n_estimators)\n",
        "svm_clf = svm_clf.fit(X_train, y_train)\n",
        "y_train_pred = cross_val_predict(svm_clf, X_train, y_train, cv=3)"
      ],
      "execution_count": 18,
      "outputs": []
    },
    {
      "cell_type": "code",
      "metadata": {
        "id": "rpEa4YWIIn9G"
      },
      "source": [
        "conf_mtrx = confusion_matrix(y_train, y_train_pred)"
      ],
      "execution_count": 19,
      "outputs": []
    },
    {
      "cell_type": "code",
      "metadata": {
        "id": "omYdysi1vBpK"
      },
      "source": [
        "row_sums = conf_mtrx.sum(axis=1, keepdims=True)"
      ],
      "execution_count": 20,
      "outputs": []
    },
    {
      "cell_type": "code",
      "metadata": {
        "id": "GfilcPrFvJDi"
      },
      "source": [
        "norm_conf_mtrx = conf_mtrx/row_sums"
      ],
      "execution_count": 21,
      "outputs": []
    },
    {
      "cell_type": "code",
      "metadata": {
        "colab": {
          "base_uri": "https://localhost:8080/",
          "height": 275
        },
        "id": "G3hIPz9eCuHh",
        "outputId": "06bea807-b126-4bbd-cd48-40e33bcc0a5c"
      },
      "source": [
        "import matplotlib as mpl\n",
        "import matplotlib.pyplot as plt\n",
        "\n",
        "np.fill_diagonal(conf_mtrx, 0.)\n",
        "plt.matshow(norm_conf_mtrx, cmap=plt.cm.gray)\n",
        "plt.show()"
      ],
      "execution_count": 22,
      "outputs": [
        {
          "output_type": "display_data",
          "data": {
            "image/png": "[encoded data removed]",
            "text/plain": [
              "<Figure size 288x288 with 1 Axes>"
            ]
          },
          "metadata": {
            "needs_background": "light"
          }
        }
      ]
    },
    {
      "cell_type": "code",
      "metadata": {
        "colab": {
          "base_uri": "https://localhost:8080/",
          "height": 275
        },
        "id": "aUG5DqSdC7G3",
        "outputId": "f98dcd39-44d3-4dd6-93ee-6b04c111770d"
      },
      "source": [
        "row_sums = conf_mtrx.sum(axis=1, keepdims=True)\n",
        "norm_conf_mtrx = conf_mtrx/row_sums\n",
        "np.fill_diagonal(norm_conf_mtrx, 0.)\n",
        "plt.matshow(norm_conf_mtrx, cmap=plt.cm.gray)\n",
        "plt.show()"
      ],
      "execution_count": 23,
      "outputs": [
        {
          "output_type": "display_data",
          "data": {
            "image/png": "[encoded data removed]",
            "text/plain": [
              "<Figure size 288x288 with 1 Axes>"
            ]
          },
          "metadata": {
            "needs_background": "light"
          }
        }
      ]
    },
    {
      "cell_type": "code",
      "metadata": {
        "id": "1gb5gja6DDnv"
      },
      "source": [
        "from sklearn.model_selection import GridSearchCV\n",
        "from sklearn.preprocessing   import MinMaxScaler\n",
        "\n",
        "X = MinMaxScaler().fit_transform(X)\n",
        "X_train, X_test, y_train, y_test = X[:60000], X[60000:], y[:60000],y[60000:]"
      ],
      "execution_count": 24,
      "outputs": []
    },
    {
      "cell_type": "code",
      "metadata": {
        "id": "3NDTwtzSKn_Z"
      },
      "source": [
        "from sklearn.svm import SVC\n",
        " \n",
        "svm_clf_rbf = SVC(kernel='rbf').fit(X_train, y_train)"
      ],
      "execution_count": 25,
      "outputs": []
    },
    {
      "cell_type": "code",
      "metadata": {
        "id": "TDL8ABMJueNh"
      },
      "source": [
        ""
      ],
      "execution_count": null,
      "outputs": []
    },
    {
      "cell_type": "code",
      "metadata": {
        "id": "NfwoC8pjueVN"
      },
      "source": [
        ""
      ],
      "execution_count": null,
      "outputs": []
    },
    {
      "cell_type": "code",
      "metadata": {
        "colab": {
          "base_uri": "https://localhost:8080/"
        },
        "id": "sspU09jUMfOO",
        "outputId": "58cd7e0b-4cae-4afe-bda5-b460d33b16c5"
      },
      "source": [
        "y_train_pred_rbf = cross_val_predict(svm_clf_rbf, X_train, y_train, cv=3, n_jobs =-1)\n",
        "conf_mtrx_rbf = confusion_matrix(y_train, y_train_pred_rbf)\n",
        "print(conf_mtrx_rbf)"
      ],
      "execution_count": 26,
      "outputs": [
        {
          "output_type": "stream",
          "name": "stdout",
          "text": [
            "[[5863    3   10    2    4    8   14    2   13    4]\n",
            " [   1 6664   26    9   10    1    3   10   10    8]\n",
            " [  19    9 5811   16   26    5    8   30   28    6]\n",
            " [   3    9   54 5891    2   62    1   30   61   18]\n",
            " [   5   11   13    0 5712    0   20    9    4   68]\n",
            " [  11    6   10   57   14 5255   35    4   17   12]\n",
            " [  20    8    7    0   10   32 5831    0   10    0]\n",
            " [   5   21   42    6   35    2    1 6100    7   46]\n",
            " [   8   30   19   38   20   39   21    9 5645   22]\n",
            " [  14   11    4   31   72   16    2   59   19 5721]]\n"
          ]
        }
      ]
    },
    {
      "cell_type": "code",
      "metadata": {
        "colab": {
          "base_uri": "https://localhost:8080/",
          "height": 275
        },
        "id": "M8JsYq_Ktq45",
        "outputId": "6e61903c-d93d-4a3a-90a4-25de43ee6f40"
      },
      "source": [
        "row_sums = conf_mtrx_rbf.sum(axis=1, keepdims=True)\n",
        "norm_conf_mtrx = conf_mtrx_rbf/row_sums\n",
        "np.fill_diagonal(norm_conf_mtrx, 0.)\n",
        "plt.matshow(norm_conf_mtrx, cmap=plt.cm.gray)\n",
        "plt.show()"
      ],
      "execution_count": 27,
      "outputs": [
        {
          "output_type": "display_data",
          "data": {
            "image/png": "[encoded data removed]",
            "text/plain": [
              "<Figure size 288x288 with 1 Axes>"
            ]
          },
          "metadata": {
            "needs_background": "light"
          }
        }
      ]
    },
    {
      "cell_type": "code",
      "metadata": {
        "id": "byHcF4ZcufOd"
      },
      "source": [
        "svm_clf_poly = SVC(kernel='poly').fit(X_train, y_train)"
      ],
      "execution_count": 28,
      "outputs": []
    },
    {
      "cell_type": "code",
      "metadata": {
        "colab": {
          "base_uri": "https://localhost:8080/"
        },
        "id": "I8wU689jufdN",
        "outputId": "5aa2aaed-d066-4f2c-febe-cdcce825ea40"
      },
      "source": [
        "y_train_pred_poly = cross_val_predict(svm_clf_poly, X_train, y_train, cv=3, n_jobs =-1)\n",
        "conf_mtrx_poly = confusion_matrix(y_train, y_train_pred_poly)\n",
        "print(conf_mtrx_poly)"
      ],
      "execution_count": 29,
      "outputs": [
        {
          "output_type": "stream",
          "name": "stdout",
          "text": [
            "[[5827    1   16    3    4   29   16    7   10   10]\n",
            " [   1 6663   20    8   12    0    2    9   24    3]\n",
            " [  24   27 5787   13   18   10   10   39   25    5]\n",
            " [   6   22   54 5865    4   62    1   36   57   24]\n",
            " [   7   29   11    0 5692    1   18   10   12   62]\n",
            " [  10   11    8   43    6 5266   34    4   25   14]\n",
            " [  19   11    3    1   12   44 5817    0   11    0]\n",
            " [   5   40   32    3   28    4    0 6103    9   41]\n",
            " [  13   41   22   42   19   52   18    8 5613   23]\n",
            " [  22   21    6   31   73   20    2   58   19 5697]]\n"
          ]
        }
      ]
    },
    {
      "cell_type": "code",
      "metadata": {
        "colab": {
          "base_uri": "https://localhost:8080/",
          "height": 457
        },
        "id": "TsYBxaS11Y_S",
        "outputId": "578e5d60-f35a-4baa-d1c2-e97a58a665b0"
      },
      "source": [
        "print(conf_mtrx_poly)\n",
        "row_sums = conf_mtrx_poly.sum(axis=1, keepdims=True)\n",
        "norm_conf_mtrx = conf_mtrx_poly/row_sums\n",
        "np.fill_diagonal(norm_conf_mtrx, 0.)\n",
        "plt.matshow(norm_conf_mtrx, cmap=plt.cm.gray)\n",
        "plt.show()"
      ],
      "execution_count": 30,
      "outputs": [
        {
          "output_type": "stream",
          "name": "stdout",
          "text": [
            "[[5827    1   16    3    4   29   16    7   10   10]\n",
            " [   1 6663   20    8   12    0    2    9   24    3]\n",
            " [  24   27 5787   13   18   10   10   39   25    5]\n",
            " [   6   22   54 5865    4   62    1   36   57   24]\n",
            " [   7   29   11    0 5692    1   18   10   12   62]\n",
            " [  10   11    8   43    6 5266   34    4   25   14]\n",
            " [  19   11    3    1   12   44 5817    0   11    0]\n",
            " [   5   40   32    3   28    4    0 6103    9   41]\n",
            " [  13   41   22   42   19   52   18    8 5613   23]\n",
            " [  22   21    6   31   73   20    2   58   19 5697]]\n"
          ]
        },
        {
          "output_type": "display_data",
          "data": {
            "image/png": "[encoded data removed]",
            "text/plain": [
              "<Figure size 288x288 with 1 Axes>"
            ]
          },
          "metadata": {
            "needs_background": "light"
          }
        }
      ]
    },
    {
      "cell_type": "code",
      "metadata": {
        "colab": {
          "base_uri": "https://localhost:8080/"
        },
        "id": "FpkLzVbuvfQN",
        "outputId": "d895c09b-6333-4def-e71d-bc07a451eb63"
      },
      "source": [
        "from scipy import ndimage\n",
        "\n",
        "def image_with_shifts(some_image, dx, dy):\n",
        "  image = some_image.reshape(28,28)\n",
        "  return ndimage.shift(image, [dx,dy], cval=0, mode=\"constant\").reshape([-1])\n",
        "\n",
        "X_train_augmented = [image for image in X_train]\n",
        "y_train_augmented = [label for label in y_train]\n",
        "\n",
        "for dx, dy in ((1,0), (0,1), (-1,0), (0,-1)):\n",
        "    for image, label in zip(X_train, y_train):\n",
        "      X_train_augmented.append(image_with_shifts(image,dx,dy))\n",
        "      y_train_augmented.append(label)\n",
        "\n",
        "X_train_augmented = np.array(X_train_augmented)\n",
        "y_train_augmented = np.array(y_train_augmented)\n",
        "\n",
        "print(X_train_augmented.shape)"
      ],
      "execution_count": 31,
      "outputs": [
        {
          "output_type": "stream",
          "name": "stdout",
          "text": [
            "(300000, 784)\n"
          ]
        }
      ]
    },
    {
      "cell_type": "code",
      "metadata": {
        "id": "GmkLTBXD3xZm"
      },
      "source": [
        "from sklearn.datasets import fetch_openml\n",
        "from sklearn.preprocessing import MinMaxScaler\n",
        "from sklearn.svm import SVC\n",
        "from sklearn.ensemble import BaggingClassifier\n",
        "from sklearn.multiclass import OneVsRestClassifier\n",
        "import numpy as np\n",
        "from scipy import ndimage\n",
        "\n",
        "mnist = fetch_openml('mnist_784', version=1)\n",
        "X, y = mnist[\"data\"], mnist[\"target\"]\n",
        "y = y.astype(np.uint8)\n",
        "\n",
        "X = MinMaxScaler().fit_transform(X)\n",
        "X_train, X_test, y_train, y_test = X[:60000], X[60000:], y[:60000],y[60000:]\n",
        "\n",
        "def image_with_shifts(some_image, dx, dy):\n",
        "  image = some_image.reshape(28,28)\n",
        "  return ndimage.shift(image, [dx,dy], cval=0, mode=\"constant\").reshape([-1])\n",
        "\n",
        "X_train_augmented = [image for image in X_train]\n",
        "y_train_augmented = [label for label in y_train]\n",
        "\n",
        "for dx, dy in ((1,0), (0,1), (-1,0), (0,-1)):\n",
        "    for image, label in zip(X_train, y_train):\n",
        "      X_train_augmented.append(image_with_shifts(image,dx,dy))\n",
        "      y_train_augmented.append(label)\n",
        "\n",
        "X_train_augmented = np.array(X_train_augmented)\n",
        "y_train_augmented = np.array(y_train_augmented)\n",
        "\n",
        "n_estimators = 10\n",
        "svm_clf_rbf_aug = BaggingClassifier(SVC(kernel='rbf', class_weight='balanced'), max_samples=1.0 / n_estimators, n_estimators=n_estimators)\n",
        "svm_clf_rbf_aug = svm_clf_rbf_aug.fit(X_train_augmented, y_train_augmented)"
      ],
      "execution_count": null,
      "outputs": []
    },
    {
      "cell_type": "code",
      "metadata": {
        "colab": {
          "base_uri": "https://localhost:8080/",
          "height": 197
        },
        "id": "O1ghN2so12Kv",
        "outputId": "3f1def05-2755-4e6a-dfb3-390f66e617c6"
      },
      "source": [
        "#y_train_pred_rbf_aug = cross_val_predict(svm_clf_rbf_aug, X_train, y_train, cv=3, n_jobs =-1)\n",
        "#conf_mtrx_rbf = confusion_matrix(y_train_augmented, y_train_pred_rbf_aug)\n",
        "#print(conf_mtrx_rbf_aug)\n",
        "y_pred = svm_clf_rbf_aug.predict(X_test)"
      ],
      "execution_count": null,
      "outputs": [
        {
          "output_type": "error",
          "ename": "NameError",
          "evalue": "ignored",
          "traceback": [
            "\u001b[0;31m---------------------------------------------------------------------------\u001b[0m",
            "\u001b[0;31mNameError\u001b[0m                                 Traceback (most recent call last)",
            "\u001b[0;32m<ipython-input-2-9f7f0e4e592e>\u001b[0m in \u001b[0;36m<module>\u001b[0;34m()\u001b[0m\n\u001b[1;32m      3\u001b[0m \u001b[0;31m#print(conf_mtrx_rbf_aug)\u001b[0m\u001b[0;34m\u001b[0m\u001b[0;34m\u001b[0m\u001b[0;34m\u001b[0m\u001b[0m\n\u001b[1;32m      4\u001b[0m \u001b[0my_pred\u001b[0m \u001b[0;34m=\u001b[0m \u001b[0msvm_clf_rbf_aug\u001b[0m\u001b[0;34m.\u001b[0m\u001b[0mpredict\u001b[0m\u001b[0;34m(\u001b[0m\u001b[0mX_test\u001b[0m\u001b[0;34m)\u001b[0m\u001b[0;34m\u001b[0m\u001b[0;34m\u001b[0m\u001b[0m\n\u001b[0;32m----> 5\u001b[0;31m \u001b[0mprint\u001b[0m\u001b[0;34m(\u001b[0m\u001b[0maccuracy_score\u001b[0m\u001b[0;34m(\u001b[0m\u001b[0my_test\u001b[0m\u001b[0;34m,\u001b[0m \u001b[0my_pred\u001b[0m\u001b[0;34m)\u001b[0m\u001b[0;34m)\u001b[0m\u001b[0;34m\u001b[0m\u001b[0;34m\u001b[0m\u001b[0m\n\u001b[0m",
            "\u001b[0;31mNameError\u001b[0m: name 'accuracy_score' is not defined"
          ]
        }
      ]
    },
    {
      "cell_type": "code",
      "metadata": {
        "colab": {
          "base_uri": "https://localhost:8080/"
        },
        "id": "a4SoTZsp4Lx6",
        "outputId": "30f906da-e1e0-4a03-8e63-04235ec0e876"
      },
      "source": [
        "from sklearn.metrics import accuracy_score\n",
        "print(accuracy_score(y_test, y_pred))"
      ],
      "execution_count": null,
      "outputs": [
        {
          "output_type": "stream",
          "text": [
            "0.9762\n"
          ],
          "name": "stdout"
        }
      ]
    },
    {
      "cell_type": "code",
      "metadata": {
        "colab": {
          "base_uri": "https://localhost:8080/",
          "height": 445
        },
        "id": "Ff-5RjDD4tP5",
        "outputId": "bc36ed0b-45e2-4873-e1f0-9857878374a6"
      },
      "source": [
        "from sklearn.metrics import confusion_matrix\n",
        "import matplotlib as mpl\n",
        "import matplotlib.pyplot as plt\n",
        "\n",
        "conf_mtrx_rbf = confusion_matrix(y_test, y_pred)\n",
        "print(conf_mtrx_rbf)\n",
        "row_sums = conf_mtrx_rbf.sum(axis=1, keepdims=True)\n",
        "norm_conf_mtrx = conf_mtrx_rbf/row_sums\n",
        "np.fill_diagonal(norm_conf_mtrx, 0.)\n",
        "plt.matshow(norm_conf_mtrx, cmap=plt.cm.gray)\n",
        "plt.show()"
      ],
      "execution_count": null,
      "outputs": [
        {
          "output_type": "stream",
          "text": [
            "[[ 972    0    0    0    0    3    2    1    2    0]\n",
            " [   0 1130    3    1    0    1    0    0    0    0]\n",
            " [   6    0 1007    4    1    0    2    6    6    0]\n",
            " [   0    0    3  991    0    1    0    8    6    1]\n",
            " [   1    0    3    0  954    0    4    0    2   18]\n",
            " [   2    1    0   10    2  867    4    1    3    2]\n",
            " [   8    2    0    0    2    4  940    0    2    0]\n",
            " [   0   10   11    2    2    0    0  990    1   12]\n",
            " [   4    0    1    4    6    6    3    3  945    2]\n",
            " [   5    5    1    8   10    3    0    6    5  966]]\n"
          ],
          "name": "stdout"
        },
        {
          "output_type": "display_data",
          "data": {
            "image/png": "[encoded data removed]",
            "text/plain": [
              "<Figure size 288x288 with 1 Axes>"
            ]
          },
          "metadata": {
            "tags": [],
            "needs_background": "light"
          }
        }
      ]
    },
    {
      "cell_type": "code",
      "metadata": {
        "id": "bH58FlAx46mI"
      },
      "source": [
        ""
      ],
      "execution_count": null,
      "outputs": []
    }
  ]
}